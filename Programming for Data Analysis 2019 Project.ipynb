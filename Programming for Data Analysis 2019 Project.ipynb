{
 "cells": [
  {
   "cell_type": "markdown",
   "metadata": {},
   "source": [
    "# Programming for Data Analysis 2019 Project #\n",
    "\n",
    "## Indtroduction ##\n",
    "\n",
    "The focus on this project is simulating data for a real life phenomenon. Simulations are computitional algorithms that use relatively simple idea of random sampling to solve increasing complex problems. [4] In recent years, due to the rise in computional power and the developing domain of Artifical Intelligence, the demand for simulated datasets is growing. Simulations can be used to generate and anaylse data over different probability distributions using NumPy package. \n",
    "\n",
    "The challange with creating synthetical data is to produce data which resembles or comes close to the intended \"real life\" data. \n",
    "\n",
    "\n",
    "\n",
    "## Healthy Ireland Survey ##\n",
    "\n",
    "The Healthy Ireland Survey is an annual face-to-face survey. Interviews are conducted with a representative sample of the population aged 15 and older living in Ireland. The sample size is typically in the region of over 7500 people.\n",
    "\n",
    "Respondents are selected using a probability-based methodology and interviewed in their homes. Survey fieldwork to date has been conducted by Ipsos MRB. [1]\n",
    "\n",
    "The Health Ireland survey covers the following data points:\n",
    "* Smoking \n",
    "* Tobacco packaging\n",
    "* Physical activity\n",
    "* General health\n",
    "* Physical measurements (weight, height and waist circumference)\n",
    "* Usage of GPs\n",
    "* Usage of other health professionals\n",
    "* Sun protection\n",
    "* Caring Responsibilities\n",
    "* Sleep\n",
    "* Parents and Health\n",
    "\n",
    "For the purpose of this project, the focus is on general demographice, BMI, smoking status, alcohol consumption and exervise. \n",
    "\n",
    "\n"
   ]
  },
  {
   "cell_type": "code",
   "execution_count": 4,
   "metadata": {},
   "outputs": [],
   "source": [
    "import numpy as np\n",
    "import pandas as pd \n",
    "import seaborn as sns"
   ]
  },
  {
   "cell_type": "markdown",
   "metadata": {},
   "source": [
    "## Simulating Data Variables ##\n",
    "\n",
    "### Gender ###\n",
    "\n",
    "Gender is a binary categorical variable, in that it has two values, male and female. Categorical data can also take on numerical values for example 1 = female and 0 = male. \n",
    "\n",
    "Census 2016 showed Ireland had 2,407,437 females - an increase of 91,884 or 4.0% on the previous census in 2011.\n",
    "In April 2016, the overall sex ratio of 97.8 males for every 100 females meant 53,009 more females than males in the State.\n"
   ]
  },
  {
   "cell_type": "code",
   "execution_count": 33,
   "metadata": {},
   "outputs": [
    {
     "data": {
      "text/plain": [
       "array(['F', 'F', 'M', 'F', 'M', 'M', 'M', 'F', 'F', 'F', 'M', 'M', 'M',\n",
       "       'F', 'M', 'M', 'F', 'M', 'M', 'F', 'M', 'F', 'M', 'M', 'M', 'F',\n",
       "       'F', 'F', 'F', 'F', 'M', 'M', 'F', 'M', 'M', 'F', 'F', 'M', 'M',\n",
       "       'M', 'F', 'F', 'M', 'F', 'M', 'M', 'F', 'F', 'M', 'F', 'F', 'M',\n",
       "       'F', 'M', 'M', 'F', 'F', 'F', 'M', 'M', 'M', 'F', 'M', 'F', 'F',\n",
       "       'M', 'M', 'M', 'M', 'M', 'M', 'M', 'M', 'M', 'F', 'M', 'M', 'F',\n",
       "       'M', 'M', 'M', 'F', 'M', 'F', 'F', 'F', 'M', 'F', 'F', 'F', 'F',\n",
       "       'F', 'M', 'F', 'F', 'F', 'M', 'F', 'F', 'F', 'M', 'M', 'F', 'F',\n",
       "       'F', 'F', 'M', 'F', 'M', 'M', 'M', 'F', 'F', 'F', 'F', 'M', 'F',\n",
       "       'F', 'F', 'M', 'M', 'F', 'M', 'F', 'M', 'F', 'F', 'F', 'M', 'M',\n",
       "       'F', 'F', 'M', 'M', 'M', 'F', 'M', 'M', 'M', 'M', 'F', 'M', 'M',\n",
       "       'F', 'M', 'F', 'M', 'M', 'F', 'F', 'F', 'F', 'F', 'M', 'M', 'M',\n",
       "       'F', 'M', 'F', 'F', 'F', 'F', 'F', 'F', 'M', 'M', 'M', 'F', 'M',\n",
       "       'M', 'M', 'F', 'M', 'M', 'M', 'F', 'M', 'F', 'F', 'M', 'M', 'M',\n",
       "       'M', 'M', 'F', 'M', 'F', 'M', 'F', 'F', 'F', 'M', 'M', 'M', 'F',\n",
       "       'F', 'M', 'M', 'F', 'F'], dtype='<U1')"
      ]
     },
     "execution_count": 33,
     "metadata": {},
     "output_type": "execute_result"
    }
   ],
   "source": [
    " np.random.choice(genders, 200, p=[0.48, 0.52])"
   ]
  },
  {
   "cell_type": "markdown",
   "metadata": {},
   "source": [
    "### Age ### \n",
    "\n",
    "Age is a continuous numeric variable. In that a variable many contain any value within some range. \n",
    "Population figures from the most recent census, and number of deaths at each age from the most recent Vital Statistics annual reports. We combine this data to calculate current life expectancy at birth for men and women. The last life tables were for the years 2010-2012. They showed a life expectancy at birth of 78.4 years for men, and 82.8 years for women. [3]\n",
    "\n"
   ]
  },
  {
   "cell_type": "code",
   "execution_count": 21,
   "metadata": {},
   "outputs": [
    {
     "data": {
      "text/plain": [
       "array([ 31,  19,  34,  86,  55,  34,  69,  78,  46,  54,  36,  47,  15,\n",
       "        45,  51,  65,  32, 101,  57,  99,  25,  57,  76, 101,  22,  65,\n",
       "        15,  63,  25,  89,  26,  63,  50,  28,  86,  84,  53,  17,  25,\n",
       "        93,  29,  16,  97, 103,  89,  21,  52,  28,  46,  28,  39,  36,\n",
       "        73,  16,  61,  55,  83,  56,  95,  41,  67,  57,  54,  50,  68,\n",
       "        68,  27, 102,  86,  25,  31,  44,  34,  47,  94,  93,  32,  40,\n",
       "        35,  65, 104,  52,  53,  86,  45,  69,  67,  75,  15,  70,  87,\n",
       "        59,  89,  67,  81,  90,  71,  60,  88,  98,  34,  57,  24,  99,\n",
       "        96,  85,  42,  59,  69,  78,  40,  83,  82,  80,  16,  19,  71,\n",
       "       102,  93, 104,  98,  51,  81,  21,  66,  34,  67,  36,  85,  74,\n",
       "        47,  66,  31,  36,  43,  43,  26,  28,  48,  36,  79, 103,  56,\n",
       "        64,  89,  82,  46,  99,  75,  18,  47, 104,  86,  89,  81,  30,\n",
       "        95,  22,  48,  92,  47,  62,  23,  95,  84,  62,  46,  62,  23,\n",
       "        60,  92,  93,  42,  21,  49,  33,  21,  21,  64,  28,  94,  83,\n",
       "        84,  82,  18, 104,  24,  34,  80,  17,  21,  27,  36,  35,  17,\n",
       "        34,  42,  63,  31,  81])"
      ]
     },
     "execution_count": 21,
     "metadata": {},
     "output_type": "execute_result"
    }
   ],
   "source": [
    "# generates a random set of ages # \n",
    "age = np.random.randint(15,105, 200)\n",
    "age"
   ]
  },
  {
   "cell_type": "code",
   "execution_count": 22,
   "metadata": {},
   "outputs": [
    {
     "data": {
      "text/plain": [
       "57.58"
      ]
     },
     "execution_count": 22,
     "metadata": {},
     "output_type": "execute_result"
    }
   ],
   "source": [
    "# Average age of the sample\n",
    "np.mean(age)"
   ]
  },
  {
   "cell_type": "code",
   "execution_count": 23,
   "metadata": {},
   "outputs": [
    {
     "data": {
      "text/plain": [
       "56.5"
      ]
     },
     "execution_count": 23,
     "metadata": {},
     "output_type": "execute_result"
    }
   ],
   "source": [
    "# Median age of the sample\n",
    "np.median(age)"
   ]
  },
  {
   "cell_type": "code",
   "execution_count": 24,
   "metadata": {},
   "outputs": [
    {
     "name": "stderr",
     "output_type": "stream",
     "text": [
      "C:\\Users\\Niamh\\Anaconda3\\lib\\site-packages\\scipy\\stats\\stats.py:1713: FutureWarning: Using a non-tuple sequence for multidimensional indexing is deprecated; use `arr[tuple(seq)]` instead of `arr[seq]`. In the future this will be interpreted as an array index, `arr[np.array(seq)]`, which will result either in an error or a different result.\n",
      "  return np.add.reduce(sorted[indexer] * weights, axis=axis) / sumval\n"
     ]
    },
    {
     "data": {
      "text/plain": [
       "<matplotlib.axes._subplots.AxesSubplot at 0x21d365b5dd8>"
      ]
     },
     "execution_count": 24,
     "metadata": {},
     "output_type": "execute_result"
    },
    {
     "data": {
      "image/png": "[encoded data removed]",
      "text/plain": [
       "<Figure size 432x288 with 1 Axes>"
      ]
     },
     "metadata": {
      "needs_background": "light"
     },
     "output_type": "display_data"
    }
   ],
   "source": [
    "\n",
    "sns.distplot(age, bins=20, color=\"navy\")"
   ]
  },
  {
   "cell_type": "markdown",
   "metadata": {},
   "source": [
    "### Alcohol Consumption ###\n",
    "\n",
    "The alcohol consumption gudelines in Ireland, recommend that women do not consume more than 11 standard drinks (110g pure alcohol) and men 17 standard drinks (170g pure alcohol) over the course of a week. \n",
    "\n",
    "Kehoe et al (2012) identified \"the Gamma distribution is recommended to model alcohol consumption from population surveys due to its fit, flexibility, and the ease with which it can be modified. The results showed that a large degree of variance of the standard deviation of the alcohol consumption Gamma distribution was explained by the mean alcohol consumption, allowing for alcohol consumption to be modeled through a Gamma distribution using only average consumption.\" [5] Therefore, in determining the average alcohol intake, this project will use these values to simulate graphic visualisation of alcohol intake. "
   ]
  },
  {
   "cell_type": "code",
   "execution_count": 45,
   "metadata": {},
   "outputs": [
    {
     "data": {
      "text/plain": [
       "<matplotlib.axes._subplots.AxesSubplot at 0x21d382cfcc0>"
      ]
     },
     "execution_count": 45,
     "metadata": {},
     "output_type": "execute_result"
    },
    {
     "data": {
      "image/png": "[encoded data removed]",
      "text/plain": [
       "<Figure size 432x288 with 1 Axes>"
      ]
     },
     "metadata": {
      "needs_background": "light"
     },
     "output_type": "display_data"
    }
   ],
   "source": [
    "# Female Alcohol Comsumption #\n",
    "falc = np.random.gamma(0.91, 15.55, 200) \n",
    "falc = pd.DataFrame(falc)\n",
    "sns.distplot(falc)"
   ]
  },
  {
   "cell_type": "code",
   "execution_count": 48,
   "metadata": {},
   "outputs": [
    {
     "name": "stderr",
     "output_type": "stream",
     "text": [
      "C:\\Users\\Niamh\\Anaconda3\\lib\\site-packages\\scipy\\stats\\stats.py:1713: FutureWarning: Using a non-tuple sequence for multidimensional indexing is deprecated; use `arr[tuple(seq)]` instead of `arr[seq]`. In the future this will be interpreted as an array index, `arr[np.array(seq)]`, which will result either in an error or a different result.\n",
      "  return np.add.reduce(sorted[indexer] * weights, axis=axis) / sumval\n"
     ]
    },
    {
     "data": {
      "text/plain": [
       "<matplotlib.axes._subplots.AxesSubplot at 0x21d388b58d0>"
      ]
     },
     "execution_count": 48,
     "metadata": {},
     "output_type": "execute_result"
    },
    {
     "data": {
      "image/png": "[encoded data removed]",
      "text/plain": [
       "<Figure size 432x288 with 1 Axes>"
      ]
     },
     "metadata": {
      "needs_background": "light"
     },
     "output_type": "display_data"
    }
   ],
   "source": [
    "malc = np.random.gamma(0.98, 38.57, 200)\n",
    "malc = pd.DataFrame(malc)\n",
    "sns.distplot(malc, color = 'green')"
   ]
  },
  {
   "cell_type": "markdown",
   "metadata": {},
   "source": [
    "### BMI ###"
   ]
  },
  {
   "cell_type": "markdown",
   "metadata": {},
   "source": [
    "### Exercise ### "
   ]
  },
  {
   "cell_type": "markdown",
   "metadata": {},
   "source": [
    "### Simulating a database ###"
   ]
  },
  {
   "cell_type": "code",
   "execution_count": 37,
   "metadata": {},
   "outputs": [],
   "source": [
    "\n",
    "#np.random.seed(200)\n",
    "\n",
    "#Create the Male/ Female object\n",
    "genders = ['Male', 'Female']\n",
    "\n",
    "#Create the smoker/ non-smoker object\n",
    "smokers = ['Yes', 'No']\n",
    "\n",
    "#Create the dataframe with column headings\n",
    "df = pd.DataFrame(columns=['Genders', 'Height', 'Weight', 'Alcohol units/ wk', 'Exercise', 'BMI',\n",
    "                          'Smoker',])\n",
    "\n",
    "#Populate the Genders column with men and women\n",
    "df['Genders'] = np.random.choice(genders, 200, p=[0.48, 0.52])\n",
    "\n",
    "#Create list of average weekly minutes of exercise taken\n",
    "ave_minutes_exercise_week = [25, 50, 100, 125, 150, 175, 200]\n",
    "\n",
    "#Populate the dataframe with minutes of exercise according to actual probabilities inferred from HSE publications\n",
    "df['Exercise'] = np.random.choice(ave_minutes_exercise_week, 200, p=[0.05, 0.05, 0.1, 0.1, 0.5, 0.1, 0.1])\n",
    "\n",
    "#Define a function to create Male and Female heights according to a normal distribution\n",
    "def what_height(height):\n",
    "        if height == 'Male':\n",
    "            return np.random.normal(1.77, 0.05)\n",
    "        elif height == 'Female':\n",
    "            return np.random.normal(1.63, 0.04)\n",
    "        \n",
    "#Define a function to create Male and Female weights according to a normal distribution\n",
    "def what_weight(weight):\n",
    "        if weight == 'Male':\n",
    "            return np.random.normal(80.7, 0.74)\n",
    "        elif weight == 'Female':\n",
    "            return np.random.normal(69, 0.71)\n",
    "\n",
    "#Define a function that assigns smoker or non-smoker\n",
    "def what_smoker(smoke):\n",
    "    if smoke == 'Male':\n",
    "        return np.random.choice(smokers, p=[0.211, 0.789])\n",
    "    if smoke == 'Female':\n",
    "        return np.random.choice(smokers, p=[0.166, 0.834])\n",
    "\n",
    "#Define a function that assigns weekly units of standard drinks\n",
    "def what_alcohol(alcohol):\n",
    "    if alcohol == 'Male':\n",
    "        return np.random.uniform(0, 20)\n",
    "    if alcohol == 'Female':\n",
    "        return np.random.uniform(0, 20)  \n",
    "\n",
    "  \n",
    "\n",
    "#Run the functions in the DataFrame\n",
    "df['Height'] = df['Genders'].apply(what_height)\n",
    "df['Weight'] = df['Genders'].apply(what_weight)\n",
    "df['BMI'] = df['Weight']/df['Height']**2\n",
    "df['Smoker'] = df['Genders'].apply(what_smoker)\n",
    "df['Alcohol units/ wk'] = df['Genders'].apply(what_alcohol)\n",
    "\n"
   ]
  },
  {
   "cell_type": "code",
   "execution_count": 12,
   "metadata": {},
   "outputs": [
    {
     "ename": "NameError",
     "evalue": "name 'df' is not defined",
     "output_type": "error",
     "traceback": [
      "\u001b[1;31m---------------------------------------------------------------------------\u001b[0m",
      "\u001b[1;31mNameError\u001b[0m                                 Traceback (most recent call last)",
      "\u001b[1;32m<ipython-input-12-c42a15b2c7cf>\u001b[0m in \u001b[0;36m<module>\u001b[1;34m\u001b[0m\n\u001b[1;32m----> 1\u001b[1;33m \u001b[0mdf\u001b[0m\u001b[1;33m.\u001b[0m\u001b[0mhead\u001b[0m\u001b[1;33m(\u001b[0m\u001b[1;33m)\u001b[0m\u001b[1;33m\u001b[0m\u001b[1;33m\u001b[0m\u001b[0m\n\u001b[0m",
      "\u001b[1;31mNameError\u001b[0m: name 'df' is not defined"
     ]
    }
   ],
   "source": []
  },
  {
   "cell_type": "markdown",
   "metadata": {},
   "source": [
    "## References ##\n",
    "1. Healthly Ireland Webpage, Government of Ireland https://www.gov.ie/en/collection/231c02-healthy-ireland-survey-wave/\n",
    "2. Healthy Ireland Summary Report 2019 https://assets.gov.ie/41141/e5d6fea3a59a4720b081893e11fe299e.pdf\n",
    "3. Central Statistics Offics https://www.cso.ie/en/interactivezone/statisticsexplained/birthsdeathsandmarriages/lifeexpectancytables/\n",
    "4. https://datacamp.com/courses/statistical-simulation-in-python\n",
    "5. https://www.ncbi.nlm.nih.gov/pmc/articles/PMC3352241/"
   ]
  }
 ],
 "metadata": {
  "kernelspec": {
   "display_name": "Python 3",
   "language": "python",
   "name": "python3"
  },
  "language_info": {
   "codemirror_mode": {
    "name": "ipython",
    "version": 3
   },
   "file_extension": ".py",
   "mimetype": "text/x-python",
   "name": "python",
   "nbconvert_exporter": "python",
   "pygments_lexer": "ipython3",
   "version": "3.7.1"
  }
 },
 "nbformat": 4,
 "nbformat_minor": 2
}
